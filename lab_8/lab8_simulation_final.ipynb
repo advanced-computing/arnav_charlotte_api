{
 "cells": [
  {
   "cell_type": "markdown",
   "id": "ecf88687",
   "metadata": {},
   "source": [
    "# Lab 8: Data Loading Simulation\n",
    "This notebook simulates **three data loading methods** into DuckDB:\n",
    "\n",
    "- ✅ Append (no duplicates)\n",
    "- ✅ Truncate and reload\n",
    "- ✅ Incremental (insert or update)\n",
    "\n",
    "It loads CPI data from the Philadelphia Fed API and tests all methods over a simulated daily range."
   ]
  },
  {
   "cell_type": "code",
   "execution_count": 11,
   "id": "a05d35b3",
   "metadata": {},
   "outputs": [
    {
     "name": "stderr",
     "output_type": "stream",
     "text": [
      "1414.58s - pydevd: Sending message related to process being replaced timed-out after 5 seconds\n"
     ]
    },
    {
     "name": "stdout",
     "output_type": "stream",
     "text": [
      "Defaulting to user installation because normal site-packages is not writeable\n",
      "Requirement already satisfied: duckdb in /Users/charlottebacchetta/Library/Python/3.9/lib/python/site-packages (1.2.1)\n",
      "Requirement already satisfied: pandas in /Users/charlottebacchetta/Library/Python/3.9/lib/python/site-packages (2.2.3)\n",
      "Requirement already satisfied: openpyxl in /Users/charlottebacchetta/Library/Python/3.9/lib/python/site-packages (3.1.5)\n",
      "Requirement already satisfied: requests in /Users/charlottebacchetta/Library/Python/3.9/lib/python/site-packages (2.32.3)\n",
      "Requirement already satisfied: numpy>=1.22.4 in /Users/charlottebacchetta/Library/Python/3.9/lib/python/site-packages (from pandas) (2.0.2)\n",
      "Requirement already satisfied: tzdata>=2022.7 in /Users/charlottebacchetta/Library/Python/3.9/lib/python/site-packages (from pandas) (2025.2)\n",
      "Requirement already satisfied: pytz>=2020.1 in /Users/charlottebacchetta/Library/Python/3.9/lib/python/site-packages (from pandas) (2025.2)\n",
      "Requirement already satisfied: python-dateutil>=2.8.2 in /Users/charlottebacchetta/Library/Python/3.9/lib/python/site-packages (from pandas) (2.9.0.post0)\n",
      "Requirement already satisfied: et-xmlfile in /Users/charlottebacchetta/Library/Python/3.9/lib/python/site-packages (from openpyxl) (2.0.0)\n",
      "Requirement already satisfied: urllib3<3,>=1.21.1 in /Users/charlottebacchetta/Library/Python/3.9/lib/python/site-packages (from requests) (2.3.0)\n",
      "Requirement already satisfied: idna<4,>=2.5 in /Users/charlottebacchetta/Library/Python/3.9/lib/python/site-packages (from requests) (3.10)\n",
      "Requirement already satisfied: charset-normalizer<4,>=2 in /Users/charlottebacchetta/Library/Python/3.9/lib/python/site-packages (from requests) (3.4.1)\n",
      "Requirement already satisfied: certifi>=2017.4.17 in /Users/charlottebacchetta/Library/Python/3.9/lib/python/site-packages (from requests) (2025.1.31)\n",
      "Requirement already satisfied: six>=1.5 in /Library/Developer/CommandLineTools/Library/Frameworks/Python3.framework/Versions/3.9/lib/python3.9/site-packages (from python-dateutil>=2.8.2->pandas) (1.15.0)\n",
      "\u001b[33mWARNING: You are using pip version 21.2.4; however, version 25.0.1 is available.\n",
      "You should consider upgrading via the '/Library/Developer/CommandLineTools/usr/bin/python3 -m pip install --upgrade pip' command.\u001b[0m\n"
     ]
    }
   ],
   "source": [
    "!pip3 install duckdb pandas openpyxl requests"
   ]
  },
  {
   "cell_type": "code",
   "execution_count": 12,
   "id": "3f429bcb",
   "metadata": {},
   "outputs": [
    {
     "name": "stderr",
     "output_type": "stream",
     "text": [
      "usage: ipykernel_launcher.py [-h] --pull_date PULL_DATE\n",
      "ipykernel_launcher.py: error: the following arguments are required: --pull_date\n"
     ]
    },
    {
     "ename": "SystemExit",
     "evalue": "2",
     "output_type": "error",
     "traceback": [
      "An exception has occurred, use %tb to see the full traceback.\n",
      "\u001b[0;31mSystemExit\u001b[0m\u001b[0;31m:\u001b[0m 2\n"
     ]
    }
   ],
   "source": [
    "import duckdb\n",
    "import openpyxl\n",
    "import requests\n",
    "import load_inc\n",
    "import pandas as pd\n",
    "from datetime import datetime, timedelta\n",
    "import time\n",
    "import os\n",
    "import load_append\n",
    "import load_trunc\n"
   ]
  },
  {
   "cell_type": "code",
   "execution_count": null,
   "id": "e91b42fe",
   "metadata": {},
   "outputs": [],
   "source": [
    "# === Simulation Configuration ===\n",
    "start_date = datetime(2004, 1, 1)\n",
    "end_date = datetime(2004, 3, 1)  # You can change this for longer tests\n",
    "\n",
    "# Initialize timing lists\n",
    "append_times = []\n",
    "trunc_times = []\n",
    "inc_times = []\n"
   ]
  },
  {
   "cell_type": "code",
   "execution_count": null,
   "id": "edfc7263",
   "metadata": {},
   "outputs": [],
   "source": [
    "# === Run Loaders Over Date Range ===\n",
    "current_date = start_date\n",
    "while current_date <= end_date:\n",
    "    pull_date_str = current_date.strftime(\"%Y-%m-%d\")\n",
    "    print(f\"\\n📅 Running loaders for: {pull_date_str}\")\n",
    "\n",
    "    try:\n",
    "        t0 = time.time()\n",
    "        load_append.run(pull_date_str)\n",
    "        append_times.append(time.time() - t0)\n",
    "    except Exception as e:\n",
    "        print(f\"[append error] {pull_date_str}: {e}\")\n",
    "\n",
    "    try:\n",
    "        t0 = time.time()\n",
    "        load_trunc.run(pull_date_str)\n",
    "        trunc_times.append(time.time() - t0)\n",
    "    except Exception as e:\n",
    "        print(f\"[trunc error] {pull_date_str}: {e}\")\n",
    "\n",
    "    try:\n",
    "        t0 = time.time()\n",
    "        load_inc.run(pull_date_str)\n",
    "        inc_times.append(time.time() - t0)\n",
    "    except Exception as e:\n",
    "        print(f\"[incremental error] {pull_date_str}: {e}\")\n",
    "\n",
    "    current_date += timedelta(days=1)\n"
   ]
  },
  {
   "cell_type": "code",
   "execution_count": null,
   "id": "ba90cc8b",
   "metadata": {},
   "outputs": [],
   "source": [
    "# === Preview Data from Each Table ===\n",
    "def view_table(db_path, table_name):\n",
    "    con = duckdb.connect(db_path)\n",
    "    df = con.execute(f\"SELECT * FROM {table_name} ORDER BY date LIMIT 10\").fetchdf()\n",
    "    con.close()\n",
    "    return df\n",
    "\n",
    "print(\"\\n📊 Sample from Append Table:\")\n",
    "display(view_table(\"economic_data_append.duckdb\", \"economic_data_append\"))\n",
    "\n",
    "print(\"\\n📊 Sample from Trunc Table:\")\n",
    "display(view_table(\"economic_data_trunc.duckdb\", \"economic_data_trunc\"))\n",
    "\n",
    "print(\"\\n📊 Sample from Incremental Table:\")\n",
    "display(view_table(\"economic_data_inc.duckdb\", \"economic_data_inc\"))\n"
   ]
  },
  {
   "cell_type": "code",
   "execution_count": null,
   "id": "fa679c19",
   "metadata": {},
   "outputs": [],
   "source": [
    "# === Compare Method Performance ===\n",
    "def summarize_times(label, times):\n",
    "    avg = round(sum(times) / len(times), 4)\n",
    "    return f\"{label} avg: {avg:.4f}s over {len(times)} runs\"\n",
    "\n",
    "print(\"\\n⏱️ Performance Summary:\")\n",
    "print(summarize_times(\"Append\", append_times))\n",
    "print(summarize_times(\"Trunc\", trunc_times))\n",
    "print(summarize_times(\"Incremental\", inc_times))\n"
   ]
  },
  {
   "cell_type": "code",
   "execution_count": null,
   "id": "1859cf1c",
   "metadata": {},
   "outputs": [],
   "source": [
    "# === Check for Duplicates in Append Table ===\n",
    "con = duckdb.connect(\"economic_data_append.duckdb\")\n",
    "dup_check = con.execute(\"\"\"\n",
    "    SELECT date, COUNT(*) as count\n",
    "    FROM economic_data_append\n",
    "    GROUP BY date\n",
    "    HAVING COUNT(*) > 1\n",
    "\"\"\").fetchdf()\n",
    "con.close()\n",
    "\n",
    "if dup_check.empty:\n",
    "    print(\"\\n✅ No duplicates in append table.\")\n",
    "else:\n",
    "    print(\"\\n⚠️ Duplicates found in append table:\")\n",
    "    display(dup_check)\n"
   ]
  }
 ],
 "metadata": {
  "kernelspec": {
   "display_name": "Python 3",
   "language": "python",
   "name": "python3"
  },
  "language_info": {
   "codemirror_mode": {
    "name": "ipython",
    "version": 3
   },
   "file_extension": ".py",
   "mimetype": "text/x-python",
   "name": "python",
   "nbconvert_exporter": "python",
   "pygments_lexer": "ipython3",
   "version": "3.9.6"
  }
 },
 "nbformat": 4,
 "nbformat_minor": 5
}
